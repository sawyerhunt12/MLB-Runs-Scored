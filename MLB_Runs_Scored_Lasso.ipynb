{
  "nbformat": 4,
  "nbformat_minor": 0,
  "metadata": {
    "colab": {
      "provenance": [],
      "authorship_tag": "ABX9TyOFZ7xWfCmT1HWqbLrVeME4",
      "include_colab_link": true
    },
    "kernelspec": {
      "name": "python3",
      "display_name": "Python 3"
    },
    "language_info": {
      "name": "python"
    }
  },
  "cells": [
    {
      "cell_type": "markdown",
      "metadata": {
        "id": "view-in-github",
        "colab_type": "text"
      },
      "source": [
        "<a href=\"https://colab.research.google.com/github/sawyerhunt12/MLB-Runs-Scored/blob/main/MLB_Runs_Scored_Lasso.ipynb\" target=\"_parent\"><img src=\"https://colab.research.google.com/assets/colab-badge.svg\" alt=\"Open In Colab\"/></a>"
      ]
    },
    {
      "cell_type": "code",
      "execution_count": null,
      "metadata": {
        "colab": {
          "base_uri": "https://localhost:8080/"
        },
        "id": "WrC49JpuwnYb",
        "outputId": "f24f5207-a5e0-4f8f-b076-8279124b451f"
      },
      "outputs": [
        {
          "output_type": "stream",
          "name": "stdout",
          "text": [
            "Mounted at /content/gdrive\n"
          ]
        }
      ],
      "source": [
        "import pandas as pd\n",
        "import numpy as np\n",
        "import seaborn as sns\n",
        "import matplotlib.pyplot as plt\n",
        "from google.colab import drive\n",
        "drive.mount('/content/gdrive')"
      ]
    },
    {
      "cell_type": "code",
      "source": [
        "# Read in data from Google Drive\n",
        "data = pd.read_csv('gdrive/My Drive/MLB_stolen_bases.csv')"
      ],
      "metadata": {
        "id": "TS9FTIERwum8"
      },
      "execution_count": null,
      "outputs": []
    },
    {
      "cell_type": "code",
      "source": [
        "data.shape"
      ],
      "metadata": {
        "colab": {
          "base_uri": "https://localhost:8080/"
        },
        "id": "hX5gfFi_m_Ds",
        "outputId": "4b7181e6-f1fd-4748-8177-5ec93cdfff19"
      },
      "execution_count": null,
      "outputs": [
        {
          "output_type": "execute_result",
          "data": {
            "text/plain": [
              "(133, 23)"
            ]
          },
          "metadata": {},
          "execution_count": 3
        }
      ]
    },
    {
      "cell_type": "code",
      "source": [
        "# 75th, 25th, and 90th percentile of runs scored\n",
        "seventy_five_runs = data[\"r_run\"].quantile(0.75)\n",
        "twenty_five_runs = data[\"r_run\"].quantile(0.25)\n",
        "ninety_runs = data[\"r_run\"].quantile(0.90)\n",
        "\n",
        "# runs scored iqr\n",
        "runs_iqr = seventy_five_runs - twenty_five_runs\n",
        "\n",
        "# upper and lower outliers\n",
        "upper_outlier_runs = seventy_five_runs + (1.5 * runs_iqr)\n",
        "lower_outlier_runs = twenty_five_runs - (1.5 * runs_iqr)\n",
        "\n",
        "print(\"75th Percentile:\", seventy_five_runs)\n",
        "print(\"25th Percentile:\", twenty_five_runs)\n",
        "print(\"90th Percentile:\", ninety_runs)\n",
        "print(\"Interquartile Range:\", runs_iqr)\n",
        "print(\"Upper Outlier Limit:\", upper_outlier_runs)\n",
        "print(\"Lower Outlier Limit:\", lower_outlier_runs)"
      ],
      "metadata": {
        "colab": {
          "base_uri": "https://localhost:8080/"
        },
        "id": "fhs9AMiJlwhV",
        "outputId": "b6a83f16-9b00-452b-90a9-a52a6adec3f0"
      },
      "execution_count": null,
      "outputs": [
        {
          "output_type": "stream",
          "name": "stdout",
          "text": [
            "75th Percentile: 90.0\n",
            "25th Percentile: 66.0\n",
            "90th Percentile: 102.0\n",
            "Interquartile Range: 24.0\n",
            "Upper Outlier Limit: 126.0\n",
            "Lower Outlier Limit: 30.0\n"
          ]
        }
      ]
    },
    {
      "cell_type": "code",
      "source": [
        "from sklearn.linear_model import Lasso\n",
        "from sklearn.model_selection import train_test_split\n",
        "from sklearn.metrics import mean_squared_error\n",
        "from sklearn.linear_model import LassoCV\n",
        "from sklearn.model_selection import cross_val_score"
      ],
      "metadata": {
        "id": "9AOzsUvCwujp"
      },
      "execution_count": null,
      "outputs": []
    },
    {
      "cell_type": "markdown",
      "source": [
        "Perform Lasso Regression Model"
      ],
      "metadata": {
        "id": "v6ZB5MYZIyP7"
      }
    },
    {
      "cell_type": "code",
      "source": [
        "# Feature selection, all relavent offensive stats in the dataset\n",
        "X = data[[\"r_total_stolen_base\", \"on_base_percent\", \"batting_avg\", \"on_base_plus_slg\", \"hit\", \"walk\", \"slg_percent\"]].values\n",
        "\n",
        "# Target variable\n",
        "y = data[\"r_run\"].values"
      ],
      "metadata": {
        "id": "OJkESL3nwuhW"
      },
      "execution_count": null,
      "outputs": []
    },
    {
      "cell_type": "code",
      "source": [
        "# Split the data into training and tests sets\n",
        "X_train, X_test, y_train, y_test = train_test_split(X, y, test_size = 0.2, random_state = 42)"
      ],
      "metadata": {
        "id": "K3zvXPxxwufH"
      },
      "execution_count": null,
      "outputs": []
    },
    {
      "cell_type": "code",
      "source": [
        "# Use cross validation to determine optimal alpha value\n",
        "alphas = [0.001, 0.01, 0.1, 1, 10, 100]\n",
        "\n",
        "lasso_cv = LassoCV(alphas = alphas, cv = 5)\n",
        "\n",
        "lasso_cv.fit(X_train, y_train)\n",
        "\n",
        "optimal_alpha = lasso_cv.alpha_\n",
        "print(optimal_alpha)"
      ],
      "metadata": {
        "colab": {
          "base_uri": "https://localhost:8080/"
        },
        "id": "NrMS6fBKUe4R",
        "outputId": "904bdd4f-9128-436c-828b-937aa086e418"
      },
      "execution_count": null,
      "outputs": [
        {
          "output_type": "stream",
          "name": "stdout",
          "text": [
            "0.001\n"
          ]
        }
      ]
    },
    {
      "cell_type": "code",
      "source": [
        "# Fit model using optimal alpha value\n",
        "final_model = Lasso(alpha = optimal_alpha)\n",
        "final_model.fit(X_train, y_train)\n",
        "\n",
        "# Make predictions on the test set\n",
        "y_pred = final_model.predict(X_test)\n",
        "\n",
        "test_score = final_model.score(X_test, y_test)\n",
        "print(test_score)"
      ],
      "metadata": {
        "colab": {
          "base_uri": "https://localhost:8080/"
        },
        "id": "NSeLVPGcU_F0",
        "outputId": "c3678c6c-0040-4c6d-dba3-cb1dbdcb7761"
      },
      "execution_count": null,
      "outputs": [
        {
          "output_type": "stream",
          "name": "stdout",
          "text": [
            "0.8720197381494038\n"
          ]
        }
      ]
    },
    {
      "cell_type": "code",
      "source": [
        "# Print coefficients\n",
        "# Print the model parameters\n",
        "print(\"Intercept:\", final_model.intercept_)\n",
        "print(\"Stolen Bases:\", final_model.coef_[0])\n",
        "print(\"OBP:\", final_model.coef_[1])\n",
        "print(\"Batting Avg:\", final_model.coef_[2])\n",
        "print(\"OPS:\", final_model.coef_[3])\n",
        "print(\"Hits:\", final_model.coef_[4])\n",
        "print(\"Walks:\", final_model.coef_[5])\n",
        "print(\"Slugging Percentage:\", final_model.coef_[6])"
      ],
      "metadata": {
        "colab": {
          "base_uri": "https://localhost:8080/"
        },
        "id": "pWmu4RgxVc7s",
        "outputId": "4db36311-cb1e-4492-eba7-0ba10279247b"
      },
      "execution_count": null,
      "outputs": [
        {
          "output_type": "stream",
          "name": "stdout",
          "text": [
            "Intercept: -25.300694494424036\n",
            "Stolen Bases: 0.3862184747414358\n",
            "OBP: 122.18052400503669\n",
            "Batting Avg: -457.2620764742318\n",
            "OPS: 131.80473568584634\n",
            "Hits: 0.529112311566787\n",
            "Walks: 0.028528748779291995\n",
            "Slugging Percentage: -0.0\n"
          ]
        }
      ]
    },
    {
      "cell_type": "code",
      "source": [
        "# Evaluate the model with MSE\n",
        "mse = mean_squared_error(y_test, y_pred)\n",
        "print(\"Mean Squared Error:\", mse)"
      ],
      "metadata": {
        "colab": {
          "base_uri": "https://localhost:8080/"
        },
        "id": "0tATgdz_V7yW",
        "outputId": "25acbd5f-bf8d-49b7-b230-ec9bc83a8a67"
      },
      "execution_count": null,
      "outputs": [
        {
          "output_type": "stream",
          "name": "stdout",
          "text": [
            "Mean Squared Error: 58.57844429730567\n"
          ]
        }
      ]
    },
    {
      "cell_type": "code",
      "source": [
        "# Apply predictions to dataframe\n",
        "features = data[[\"r_total_stolen_base\", \"on_base_percent\", \"batting_avg\", \"on_base_plus_slg\", \"hit\", \"walk\", \"slg_percent\"]].values\n",
        "\n",
        "# Make predictions using the trained model\n",
        "predictions = final_model.predict(features)\n",
        "\n",
        "# Add predictions as a new column to dataframe\n",
        "data[\"predicted_runs\"] = predictions\n",
        "\n",
        "# Print actual runs and predicted runs\n",
        "runs_pred = data[[\"last_name, first_name\", \"r_run\", \"predicted_runs\"]]\n",
        "print(runs_pred)"
      ],
      "metadata": {
        "colab": {
          "base_uri": "https://localhost:8080/"
        },
        "id": "PRRnnp4W062i",
        "outputId": "1f7f8407-c0dc-4e71-b9ff-1b168271a17c"
      },
      "execution_count": null,
      "outputs": [
        {
          "output_type": "stream",
          "name": "stdout",
          "text": [
            "    last_name, first_name  r_run  predicted_runs\n",
            "0          Grisham, Trent     67       67.702416\n",
            "1      Candelario, Jeimer     77       79.144637\n",
            "2           Hoerner, Nico     98       94.254209\n",
            "3         Carroll, Corbin    116      110.684492\n",
            "4      Santander, Anthony     81       85.865241\n",
            "..                    ...    ...             ...\n",
            "128     Yoshida, Masataka     71       73.122824\n",
            "129         Outman, James     86       80.166705\n",
            "130            Bohm, Alec     74       73.758611\n",
            "131     Wade Jr., LaMonte     64       68.482267\n",
            "132       Varsho, Daulton     65       66.599807\n",
            "\n",
            "[133 rows x 3 columns]\n"
          ]
        }
      ]
    },
    {
      "cell_type": "code",
      "source": [
        "# Print first 50 records of predicted runs scored compared to actual runs scored.\n",
        "print(runs_pred.head(50))"
      ],
      "metadata": {
        "colab": {
          "base_uri": "https://localhost:8080/"
        },
        "id": "bIsE9wv0JpwJ",
        "outputId": "4dc5cf08-8263-4c0e-abfe-2c8dfdf9c661"
      },
      "execution_count": null,
      "outputs": [
        {
          "output_type": "stream",
          "name": "stdout",
          "text": [
            "   last_name, first_name  r_run  predicted_runs\n",
            "0         Grisham, Trent     67       67.702416\n",
            "1     Candelario, Jeimer     77       79.144637\n",
            "2          Hoerner, Nico     98       94.254209\n",
            "3        Carroll, Corbin    116      110.684492\n",
            "4     Santander, Anthony     81       85.865241\n",
            "5            Smith, Will     80       71.243642\n",
            "6        Swanson, Dansby     81       79.641657\n",
            "7       Arozarena, Randy     95       91.877215\n",
            "8           McNeil, Jeff     75       74.212378\n",
            "9      Walker, Christian     86       92.193767\n",
            "10          Arraez, Luis     71       84.028119\n",
            "11           Olson, Matt    127      118.064990\n",
            "12         Rosario, Amed     70       59.248734\n",
            "13          Hays, Austin     76       68.696992\n",
            "14      Rodriguez, Julio    102      108.325774\n",
            "15         McMahon, Ryan     80       77.790487\n",
            "16        Ohtani, Shohei    102      116.750303\n",
            "17         Betts, Mookie    126      117.117698\n",
            "18     Cronenworth, Jake     54       58.238307\n",
            "19     Rooker Jr., Brent     61       73.356282\n",
            "20         Ramirez, Jose     87      102.681435\n",
            "21       Lowe, Nathaniel     89       90.183194\n",
            "22      Bogaerts, Xander     83       90.153392\n",
            "23    Benintendi, Andrew     72       68.902167\n",
            "24         Suzuki, Seiya     75       80.757665\n",
            "25          Alonso, Pete     92       91.150391\n",
            "26       Torres, Gleyber     90       90.884762\n",
            "27        Nootbaar, Lars     74       68.694813\n",
            "28        Smith, Dominic     57       62.222585\n",
            "29   Tatis Jr., Fernando     91       89.167513\n",
            "30        Semien, Marcus    122      105.231413\n",
            "31             Happ, Ian     86       93.964423\n",
            "32     Lindor, Francisco    108      100.651865\n",
            "33        Taveras, Leody     67       66.165627\n",
            "34          Turner, Trea    102       97.660691\n",
            "35          LeMahieu, DJ     55       64.548399\n",
            "36        Drury, Brandon     61       66.033567\n",
            "37        Devers, Rafael     90       92.602984\n",
            "38        Crawford, J.P.     94       85.900554\n",
            "39          Straw, Myles     52       48.591432\n",
            "40        Turner, Justin     86       80.574178\n",
            "41         Albies, Ozzie     96       94.315719\n",
            "42         Kim, Ha-Seong     84       88.309958\n",
            "43        Correa, Carlos     60       65.480967\n",
            "44        Nimmo, Brandon     89       92.013130\n",
            "45  Gurriel Jr., Lourdes     65       73.925655\n",
            "46          Marte, Ketel     94       91.532914\n",
            "47        Arenado, Nolan     71       74.737392\n",
            "48        Vaughn, Andrew     67       71.298725\n",
            "49        Arcia, Orlando     66       60.623703\n"
          ]
        }
      ]
    }
  ]
}