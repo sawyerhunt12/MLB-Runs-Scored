{
  "nbformat": 4,
  "nbformat_minor": 0,
  "metadata": {
    "colab": {
      "provenance": [],
      "include_colab_link": true
    },
    "kernelspec": {
      "name": "python3",
      "display_name": "Python 3"
    },
    "language_info": {
      "name": "python"
    }
  },
  "cells": [
    {
      "cell_type": "markdown",
      "metadata": {
        "id": "view-in-github",
        "colab_type": "text"
      },
      "source": [
        "<a href=\"https://colab.research.google.com/github/sawyerhunt12/MLB-Runs-Scored/blob/main/MLB_Runs_Scored_Ridge.ipynb\" target=\"_parent\"><img src=\"https://colab.research.google.com/assets/colab-badge.svg\" alt=\"Open In Colab\"/></a>"
      ]
    },
    {
      "cell_type": "code",
      "execution_count": null,
      "metadata": {
        "colab": {
          "base_uri": "https://localhost:8080/"
        },
        "id": "NwJBm_5Bb4lX",
        "outputId": "9285b1f2-f2ed-4d8c-a665-b47f757da16b"
      },
      "outputs": [
        {
          "output_type": "stream",
          "name": "stdout",
          "text": [
            "Mounted at /content/gdrive\n"
          ]
        }
      ],
      "source": [
        "# Import packages\n",
        "import pandas as pd\n",
        "import numpy as np\n",
        "import seaborn as sns\n",
        "import matplotlib.pyplot as plt\n",
        "from google.colab import drive\n",
        "drive.mount('/content/gdrive')"
      ]
    },
    {
      "cell_type": "code",
      "source": [
        "# Import ridge regression specific packages\n",
        "from sklearn.linear_model import Ridge\n",
        "from sklearn.preprocessing import StandardScaler\n",
        "from sklearn.model_selection import train_test_split\n",
        "from sklearn.metrics import mean_squared_error\n",
        "from sklearn.model_selection import GridSearchCV"
      ],
      "metadata": {
        "id": "BO4T4qVKcAlS"
      },
      "execution_count": null,
      "outputs": []
    },
    {
      "cell_type": "code",
      "source": [
        "# Read in data from Google Drive\n",
        "data = pd.read_csv('gdrive/My Drive/MLB_stolen_bases.csv')"
      ],
      "metadata": {
        "id": "0gZTm85Ecz6P"
      },
      "execution_count": null,
      "outputs": []
    },
    {
      "cell_type": "markdown",
      "source": [
        "Perform ridge regression, not tuned."
      ],
      "metadata": {
        "id": "IFanOeDp4Gh8"
      }
    },
    {
      "cell_type": "code",
      "source": [
        "# Ridge regression\n",
        "\n",
        "# Specify features (independent variables)\n",
        "X = data[[\"r_total_stolen_base\", \"on_base_percent\", \"batting_avg\", \"on_base_plus_slg\", \"hit\", \"walk\", \"slg_percent\"]].values\n",
        "\n",
        "# Specify dependent (target) variable\n",
        "y = data[\"r_run\"]"
      ],
      "metadata": {
        "id": "t-QnojDEcAh3"
      },
      "execution_count": null,
      "outputs": []
    },
    {
      "cell_type": "code",
      "source": [
        "# Split the data into training and testing sets\n",
        "X_train, X_test, y_train, y_test = train_test_split(X, y, test_size = 0.2, random_state = 42)"
      ],
      "metadata": {
        "id": "oHV-Lrt3cAfB"
      },
      "execution_count": null,
      "outputs": []
    },
    {
      "cell_type": "code",
      "source": [
        "# Standardize features\n",
        "scaler = StandardScaler()\n",
        "X_train_scaled = scaler.fit_transform(X_train)\n",
        "X_test_scaled = scaler.transform(X_test)"
      ],
      "metadata": {
        "id": "bUGHi_7dcAcx"
      },
      "execution_count": null,
      "outputs": []
    },
    {
      "cell_type": "code",
      "source": [
        "# Create ridge regression model\n",
        "alpha = 1\n",
        "ridge_model = Ridge(alpha = alpha)"
      ],
      "metadata": {
        "id": "GoObtTcK4Ndb"
      },
      "execution_count": null,
      "outputs": []
    },
    {
      "cell_type": "code",
      "source": [
        "# Train the model on the training data\n",
        "ridge_model.fit(X_train_scaled, y_train)"
      ],
      "metadata": {
        "colab": {
          "base_uri": "https://localhost:8080/",
          "height": 74
        },
        "id": "pZubWhvp4vbt",
        "outputId": "7975c1e8-a617-4787-dbd9-d4b1b9ecd346"
      },
      "execution_count": null,
      "outputs": [
        {
          "output_type": "execute_result",
          "data": {
            "text/plain": [
              "Ridge(alpha=1)"
            ],
            "text/html": [
              "<style>#sk-container-id-3 {color: black;background-color: white;}#sk-container-id-3 pre{padding: 0;}#sk-container-id-3 div.sk-toggleable {background-color: white;}#sk-container-id-3 label.sk-toggleable__label {cursor: pointer;display: block;width: 100%;margin-bottom: 0;padding: 0.3em;box-sizing: border-box;text-align: center;}#sk-container-id-3 label.sk-toggleable__label-arrow:before {content: \"▸\";float: left;margin-right: 0.25em;color: #696969;}#sk-container-id-3 label.sk-toggleable__label-arrow:hover:before {color: black;}#sk-container-id-3 div.sk-estimator:hover label.sk-toggleable__label-arrow:before {color: black;}#sk-container-id-3 div.sk-toggleable__content {max-height: 0;max-width: 0;overflow: hidden;text-align: left;background-color: #f0f8ff;}#sk-container-id-3 div.sk-toggleable__content pre {margin: 0.2em;color: black;border-radius: 0.25em;background-color: #f0f8ff;}#sk-container-id-3 input.sk-toggleable__control:checked~div.sk-toggleable__content {max-height: 200px;max-width: 100%;overflow: auto;}#sk-container-id-3 input.sk-toggleable__control:checked~label.sk-toggleable__label-arrow:before {content: \"▾\";}#sk-container-id-3 div.sk-estimator input.sk-toggleable__control:checked~label.sk-toggleable__label {background-color: #d4ebff;}#sk-container-id-3 div.sk-label input.sk-toggleable__control:checked~label.sk-toggleable__label {background-color: #d4ebff;}#sk-container-id-3 input.sk-hidden--visually {border: 0;clip: rect(1px 1px 1px 1px);clip: rect(1px, 1px, 1px, 1px);height: 1px;margin: -1px;overflow: hidden;padding: 0;position: absolute;width: 1px;}#sk-container-id-3 div.sk-estimator {font-family: monospace;background-color: #f0f8ff;border: 1px dotted black;border-radius: 0.25em;box-sizing: border-box;margin-bottom: 0.5em;}#sk-container-id-3 div.sk-estimator:hover {background-color: #d4ebff;}#sk-container-id-3 div.sk-parallel-item::after {content: \"\";width: 100%;border-bottom: 1px solid gray;flex-grow: 1;}#sk-container-id-3 div.sk-label:hover label.sk-toggleable__label {background-color: #d4ebff;}#sk-container-id-3 div.sk-serial::before {content: \"\";position: absolute;border-left: 1px solid gray;box-sizing: border-box;top: 0;bottom: 0;left: 50%;z-index: 0;}#sk-container-id-3 div.sk-serial {display: flex;flex-direction: column;align-items: center;background-color: white;padding-right: 0.2em;padding-left: 0.2em;position: relative;}#sk-container-id-3 div.sk-item {position: relative;z-index: 1;}#sk-container-id-3 div.sk-parallel {display: flex;align-items: stretch;justify-content: center;background-color: white;position: relative;}#sk-container-id-3 div.sk-item::before, #sk-container-id-3 div.sk-parallel-item::before {content: \"\";position: absolute;border-left: 1px solid gray;box-sizing: border-box;top: 0;bottom: 0;left: 50%;z-index: -1;}#sk-container-id-3 div.sk-parallel-item {display: flex;flex-direction: column;z-index: 1;position: relative;background-color: white;}#sk-container-id-3 div.sk-parallel-item:first-child::after {align-self: flex-end;width: 50%;}#sk-container-id-3 div.sk-parallel-item:last-child::after {align-self: flex-start;width: 50%;}#sk-container-id-3 div.sk-parallel-item:only-child::after {width: 0;}#sk-container-id-3 div.sk-dashed-wrapped {border: 1px dashed gray;margin: 0 0.4em 0.5em 0.4em;box-sizing: border-box;padding-bottom: 0.4em;background-color: white;}#sk-container-id-3 div.sk-label label {font-family: monospace;font-weight: bold;display: inline-block;line-height: 1.2em;}#sk-container-id-3 div.sk-label-container {text-align: center;}#sk-container-id-3 div.sk-container {/* jupyter's `normalize.less` sets `[hidden] { display: none; }` but bootstrap.min.css set `[hidden] { display: none !important; }` so we also need the `!important` here to be able to override the default hidden behavior on the sphinx rendered scikit-learn.org. See: https://github.com/scikit-learn/scikit-learn/issues/21755 */display: inline-block !important;position: relative;}#sk-container-id-3 div.sk-text-repr-fallback {display: none;}</style><div id=\"sk-container-id-3\" class=\"sk-top-container\"><div class=\"sk-text-repr-fallback\"><pre>Ridge(alpha=1)</pre><b>In a Jupyter environment, please rerun this cell to show the HTML representation or trust the notebook. <br />On GitHub, the HTML representation is unable to render, please try loading this page with nbviewer.org.</b></div><div class=\"sk-container\" hidden><div class=\"sk-item\"><div class=\"sk-estimator sk-toggleable\"><input class=\"sk-toggleable__control sk-hidden--visually\" id=\"sk-estimator-id-5\" type=\"checkbox\" checked><label for=\"sk-estimator-id-5\" class=\"sk-toggleable__label sk-toggleable__label-arrow\">Ridge</label><div class=\"sk-toggleable__content\"><pre>Ridge(alpha=1)</pre></div></div></div></div></div>"
            ]
          },
          "metadata": {},
          "execution_count": 28
        }
      ]
    },
    {
      "cell_type": "code",
      "source": [
        "# Make predictions on the testing data\n",
        "y_pred_ridge = ridge_model.predict(X_test_scaled)"
      ],
      "metadata": {
        "id": "qI2XxGt-4Wqr"
      },
      "execution_count": null,
      "outputs": []
    },
    {
      "cell_type": "code",
      "source": [
        "# Print model parameters (intercept and coefficients)\n",
        "print(\"Ridge Intercept:\", ridge_model.intercept_)\n",
        "print(\"Stolen Bases:\", ridge_model.coef_[0])\n",
        "print(\"OBP:\", ridge_model.coef_[1])\n",
        "print(\"Batting Avg:\", ridge_model.coef_[2])\n",
        "print(\"OPS:\", ridge_model.coef_[3])\n",
        "print(\"Hits:\", ridge_model.coef_[4])\n",
        "print(\"Walks:\", ridge_model.coef_[5])\n",
        "print(\"Slugging Percentage:\", ridge_model.coef_[6])"
      ],
      "metadata": {
        "colab": {
          "base_uri": "https://localhost:8080/"
        },
        "id": "q3ZHuciF4WnU",
        "outputId": "1c96c95a-0307-477e-ee40-ed8aeb9c353d"
      },
      "execution_count": null,
      "outputs": [
        {
          "output_type": "stream",
          "name": "stdout",
          "text": [
            "Ridge Intercept: 79.86792452830188\n",
            "Stolen Bases: 4.41420409741412\n",
            "OBP: 4.26501807026336\n",
            "Batting Avg: -9.605800501974574\n",
            "OPS: 4.497081881411953\n",
            "Hits: 10.714363925688628\n",
            "Walks: 1.562316769537352\n",
            "Slugging Percentage: 3.9620817644071122\n"
          ]
        }
      ]
    },
    {
      "cell_type": "code",
      "source": [
        "# Evaluate the ridge model performance with mean squared error (MSE)\n",
        "mse_ridge = mean_squared_error(y_test, y_pred_ridge)\n",
        "print(\"Ridge MSE:\", mse_ridge)"
      ],
      "metadata": {
        "colab": {
          "base_uri": "https://localhost:8080/"
        },
        "id": "qNDFsfOH4Wk2",
        "outputId": "6a5b8709-6269-4e9f-cf3c-ab270768e488"
      },
      "execution_count": null,
      "outputs": [
        {
          "output_type": "stream",
          "name": "stdout",
          "text": [
            "Ridge MSE: 57.68734094119603\n"
          ]
        }
      ]
    },
    {
      "cell_type": "code",
      "source": [
        "# Apply predictions to dataframe\n",
        "features = data[[\"r_total_stolen_base\", \"on_base_percent\", \"batting_avg\", \"on_base_plus_slg\", \"hit\", \"walk\", \"slg_percent\"]].values\n",
        "features = scaler.fit_transform(features)\n",
        "\n",
        "# Make predictions using the trained model\n",
        "predictions = ridge_model.predict(features)\n",
        "\n",
        "# Add predictions as a new column to dataframe\n",
        "data[\"predicted_runs\"] = predictions\n",
        "\n",
        "# Print actual runs and predicted runs\n",
        "print(data[[\"last_name, first_name\", \"r_run\", \"predicted_runs\"]])"
      ],
      "metadata": {
        "colab": {
          "base_uri": "https://localhost:8080/"
        },
        "id": "4-keV68d4Wid",
        "outputId": "fac57f73-6dcc-4042-f989-b48700b72120"
      },
      "execution_count": null,
      "outputs": [
        {
          "output_type": "stream",
          "name": "stdout",
          "text": [
            "    last_name, first_name  r_run  predicted_runs\n",
            "0          Grisham, Trent     67       68.381778\n",
            "1      Candelario, Jeimer     77       78.736241\n",
            "2           Hoerner, Nico     98       92.476380\n",
            "3         Carroll, Corbin    116      107.725600\n",
            "4      Santander, Anthony     81       85.196172\n",
            "..                    ...    ...             ...\n",
            "128     Yoshida, Masataka     71       73.287685\n",
            "129         Outman, James     86       79.814683\n",
            "130            Bohm, Alec     74       74.056335\n",
            "131     Wade Jr., LaMonte     64       69.342964\n",
            "132       Varsho, Daulton     65       67.409811\n",
            "\n",
            "[133 rows x 3 columns]\n"
          ]
        }
      ]
    },
    {
      "cell_type": "markdown",
      "source": [
        "Tune ridge regression with cross validation."
      ],
      "metadata": {
        "id": "q13P9zQe5Irq"
      }
    },
    {
      "cell_type": "code",
      "source": [
        "# Create ridge regression model\n",
        "ridge_model_cv = Ridge()"
      ],
      "metadata": {
        "id": "P8jx8_M8cAae"
      },
      "execution_count": null,
      "outputs": []
    },
    {
      "cell_type": "code",
      "source": [
        "# Define a range of alpha values to test\n",
        "alphas = np.logspace(-6, 6, 13)"
      ],
      "metadata": {
        "id": "GWZF5wRxx5oc"
      },
      "execution_count": null,
      "outputs": []
    },
    {
      "cell_type": "code",
      "source": [
        "# Set up the hyperparameter grid for tuning\n",
        "param_grid = {'alpha': alphas}"
      ],
      "metadata": {
        "id": "E2G0VYP6x_5c"
      },
      "execution_count": null,
      "outputs": []
    },
    {
      "cell_type": "code",
      "source": [
        "# Use GridSearchCV for hyperparameter tuning\n",
        "ridge_cv = GridSearchCV(ridge_model_cv, param_grid, scoring = 'neg_mean_squared_error', cv = 5)\n",
        "ridge_cv.fit(X_train_scaled, y_train)"
      ],
      "metadata": {
        "colab": {
          "base_uri": "https://localhost:8080/",
          "height": 117
        },
        "id": "XGMtLt-DyEGt",
        "outputId": "ec7f718f-a2e4-4d8e-bebb-59dabb16b21a"
      },
      "execution_count": null,
      "outputs": [
        {
          "output_type": "execute_result",
          "data": {
            "text/plain": [
              "GridSearchCV(cv=5, estimator=Ridge(),\n",
              "             param_grid={'alpha': array([1.e-06, 1.e-05, 1.e-04, 1.e-03, 1.e-02, 1.e-01, 1.e+00, 1.e+01,\n",
              "       1.e+02, 1.e+03, 1.e+04, 1.e+05, 1.e+06])},\n",
              "             scoring='neg_mean_squared_error')"
            ],
            "text/html": [
              "<style>#sk-container-id-4 {color: black;background-color: white;}#sk-container-id-4 pre{padding: 0;}#sk-container-id-4 div.sk-toggleable {background-color: white;}#sk-container-id-4 label.sk-toggleable__label {cursor: pointer;display: block;width: 100%;margin-bottom: 0;padding: 0.3em;box-sizing: border-box;text-align: center;}#sk-container-id-4 label.sk-toggleable__label-arrow:before {content: \"▸\";float: left;margin-right: 0.25em;color: #696969;}#sk-container-id-4 label.sk-toggleable__label-arrow:hover:before {color: black;}#sk-container-id-4 div.sk-estimator:hover label.sk-toggleable__label-arrow:before {color: black;}#sk-container-id-4 div.sk-toggleable__content {max-height: 0;max-width: 0;overflow: hidden;text-align: left;background-color: #f0f8ff;}#sk-container-id-4 div.sk-toggleable__content pre {margin: 0.2em;color: black;border-radius: 0.25em;background-color: #f0f8ff;}#sk-container-id-4 input.sk-toggleable__control:checked~div.sk-toggleable__content {max-height: 200px;max-width: 100%;overflow: auto;}#sk-container-id-4 input.sk-toggleable__control:checked~label.sk-toggleable__label-arrow:before {content: \"▾\";}#sk-container-id-4 div.sk-estimator input.sk-toggleable__control:checked~label.sk-toggleable__label {background-color: #d4ebff;}#sk-container-id-4 div.sk-label input.sk-toggleable__control:checked~label.sk-toggleable__label {background-color: #d4ebff;}#sk-container-id-4 input.sk-hidden--visually {border: 0;clip: rect(1px 1px 1px 1px);clip: rect(1px, 1px, 1px, 1px);height: 1px;margin: -1px;overflow: hidden;padding: 0;position: absolute;width: 1px;}#sk-container-id-4 div.sk-estimator {font-family: monospace;background-color: #f0f8ff;border: 1px dotted black;border-radius: 0.25em;box-sizing: border-box;margin-bottom: 0.5em;}#sk-container-id-4 div.sk-estimator:hover {background-color: #d4ebff;}#sk-container-id-4 div.sk-parallel-item::after {content: \"\";width: 100%;border-bottom: 1px solid gray;flex-grow: 1;}#sk-container-id-4 div.sk-label:hover label.sk-toggleable__label {background-color: #d4ebff;}#sk-container-id-4 div.sk-serial::before {content: \"\";position: absolute;border-left: 1px solid gray;box-sizing: border-box;top: 0;bottom: 0;left: 50%;z-index: 0;}#sk-container-id-4 div.sk-serial {display: flex;flex-direction: column;align-items: center;background-color: white;padding-right: 0.2em;padding-left: 0.2em;position: relative;}#sk-container-id-4 div.sk-item {position: relative;z-index: 1;}#sk-container-id-4 div.sk-parallel {display: flex;align-items: stretch;justify-content: center;background-color: white;position: relative;}#sk-container-id-4 div.sk-item::before, #sk-container-id-4 div.sk-parallel-item::before {content: \"\";position: absolute;border-left: 1px solid gray;box-sizing: border-box;top: 0;bottom: 0;left: 50%;z-index: -1;}#sk-container-id-4 div.sk-parallel-item {display: flex;flex-direction: column;z-index: 1;position: relative;background-color: white;}#sk-container-id-4 div.sk-parallel-item:first-child::after {align-self: flex-end;width: 50%;}#sk-container-id-4 div.sk-parallel-item:last-child::after {align-self: flex-start;width: 50%;}#sk-container-id-4 div.sk-parallel-item:only-child::after {width: 0;}#sk-container-id-4 div.sk-dashed-wrapped {border: 1px dashed gray;margin: 0 0.4em 0.5em 0.4em;box-sizing: border-box;padding-bottom: 0.4em;background-color: white;}#sk-container-id-4 div.sk-label label {font-family: monospace;font-weight: bold;display: inline-block;line-height: 1.2em;}#sk-container-id-4 div.sk-label-container {text-align: center;}#sk-container-id-4 div.sk-container {/* jupyter's `normalize.less` sets `[hidden] { display: none; }` but bootstrap.min.css set `[hidden] { display: none !important; }` so we also need the `!important` here to be able to override the default hidden behavior on the sphinx rendered scikit-learn.org. See: https://github.com/scikit-learn/scikit-learn/issues/21755 */display: inline-block !important;position: relative;}#sk-container-id-4 div.sk-text-repr-fallback {display: none;}</style><div id=\"sk-container-id-4\" class=\"sk-top-container\"><div class=\"sk-text-repr-fallback\"><pre>GridSearchCV(cv=5, estimator=Ridge(),\n",
              "             param_grid={&#x27;alpha&#x27;: array([1.e-06, 1.e-05, 1.e-04, 1.e-03, 1.e-02, 1.e-01, 1.e+00, 1.e+01,\n",
              "       1.e+02, 1.e+03, 1.e+04, 1.e+05, 1.e+06])},\n",
              "             scoring=&#x27;neg_mean_squared_error&#x27;)</pre><b>In a Jupyter environment, please rerun this cell to show the HTML representation or trust the notebook. <br />On GitHub, the HTML representation is unable to render, please try loading this page with nbviewer.org.</b></div><div class=\"sk-container\" hidden><div class=\"sk-item sk-dashed-wrapped\"><div class=\"sk-label-container\"><div class=\"sk-label sk-toggleable\"><input class=\"sk-toggleable__control sk-hidden--visually\" id=\"sk-estimator-id-6\" type=\"checkbox\" ><label for=\"sk-estimator-id-6\" class=\"sk-toggleable__label sk-toggleable__label-arrow\">GridSearchCV</label><div class=\"sk-toggleable__content\"><pre>GridSearchCV(cv=5, estimator=Ridge(),\n",
              "             param_grid={&#x27;alpha&#x27;: array([1.e-06, 1.e-05, 1.e-04, 1.e-03, 1.e-02, 1.e-01, 1.e+00, 1.e+01,\n",
              "       1.e+02, 1.e+03, 1.e+04, 1.e+05, 1.e+06])},\n",
              "             scoring=&#x27;neg_mean_squared_error&#x27;)</pre></div></div></div><div class=\"sk-parallel\"><div class=\"sk-parallel-item\"><div class=\"sk-item\"><div class=\"sk-label-container\"><div class=\"sk-label sk-toggleable\"><input class=\"sk-toggleable__control sk-hidden--visually\" id=\"sk-estimator-id-7\" type=\"checkbox\" ><label for=\"sk-estimator-id-7\" class=\"sk-toggleable__label sk-toggleable__label-arrow\">estimator: Ridge</label><div class=\"sk-toggleable__content\"><pre>Ridge()</pre></div></div></div><div class=\"sk-serial\"><div class=\"sk-item\"><div class=\"sk-estimator sk-toggleable\"><input class=\"sk-toggleable__control sk-hidden--visually\" id=\"sk-estimator-id-8\" type=\"checkbox\" ><label for=\"sk-estimator-id-8\" class=\"sk-toggleable__label sk-toggleable__label-arrow\">Ridge</label><div class=\"sk-toggleable__content\"><pre>Ridge()</pre></div></div></div></div></div></div></div></div></div></div>"
            ]
          },
          "metadata": {},
          "execution_count": 38
        }
      ]
    },
    {
      "cell_type": "code",
      "source": [
        "# Print the best hyperparameters\n",
        "print(\"Best alpha:\", ridge_cv.best_params_['alpha'])"
      ],
      "metadata": {
        "colab": {
          "base_uri": "https://localhost:8080/"
        },
        "id": "lSFHC5CJypMl",
        "outputId": "fd8359ef-6f10-40d0-ca77-321c4c9194d3"
      },
      "execution_count": null,
      "outputs": [
        {
          "output_type": "stream",
          "name": "stdout",
          "text": [
            "Best alpha: 0.1\n"
          ]
        }
      ]
    },
    {
      "cell_type": "code",
      "source": [
        "# Make predictions using the best model\n",
        "y_pred = ridge_cv.predict(X_test_scaled)"
      ],
      "metadata": {
        "id": "0rJls8lLz0TY"
      },
      "execution_count": null,
      "outputs": []
    },
    {
      "cell_type": "code",
      "source": [
        "# Evaluate the model performance\n",
        "mse_cv = mean_squared_error(y_test, y_pred)\n",
        "print(\"Mean Squared Error:\", mse_cv)"
      ],
      "metadata": {
        "colab": {
          "base_uri": "https://localhost:8080/"
        },
        "id": "cR53L0Ipz8I1",
        "outputId": "0a9cf233-1892-466a-9575-66deca9291a2"
      },
      "execution_count": null,
      "outputs": [
        {
          "output_type": "stream",
          "name": "stdout",
          "text": [
            "Mean Squared Error: 59.73859921575589\n"
          ]
        }
      ]
    },
    {
      "cell_type": "code",
      "source": [
        "# Get the best tuned ridge model\n",
        "best_ridge_model = ridge_cv.best_estimator_"
      ],
      "metadata": {
        "id": "ghuGs-1X1_TR"
      },
      "execution_count": null,
      "outputs": []
    },
    {
      "cell_type": "code",
      "source": [
        "# Print model parameters (intercept and coefficients) from the best ridge model\n",
        "print(\"Ridge Intercept:\", best_ridge_model.intercept_)\n",
        "print(\"Stolen Bases:\", best_ridge_model.coef_[0])\n",
        "print(\"OBP:\", best_ridge_model.coef_[1])\n",
        "print(\"Batting Avg:\", best_ridge_model.coef_[2])\n",
        "print(\"OPS:\", best_ridge_model.coef_[3])\n",
        "print(\"Hits:\", best_ridge_model.coef_[4])\n",
        "print(\"Walks:\", best_ridge_model.coef_[5])\n",
        "print(\"Slugging Percentage:\", best_ridge_model.coef_[6])"
      ],
      "metadata": {
        "colab": {
          "base_uri": "https://localhost:8080/"
        },
        "id": "fGUpz2OJ0Qnb",
        "outputId": "af730452-6c8e-4843-f3fd-37a734cf5bf3"
      },
      "execution_count": null,
      "outputs": [
        {
          "output_type": "stream",
          "name": "stdout",
          "text": [
            "Ridge Intercept: 79.86792452830187\n",
            "Stolen Bases: 4.321205287241922\n",
            "OBP: 6.232329778186576\n",
            "Batting Avg: -12.040170262501974\n",
            "OPS: 5.01276510048239\n",
            "Hits: 11.81313468740142\n",
            "Walks: -0.1364436398176866\n",
            "Slugging Percentage: 3.6707907418686725\n"
          ]
        }
      ]
    },
    {
      "cell_type": "code",
      "source": [
        "# Apply predictions to dataframe\n",
        "features = data[[\"r_total_stolen_base\", \"on_base_percent\", \"batting_avg\", \"on_base_plus_slg\", \"hit\", \"walk\", \"slg_percent\"]].values\n",
        "features = scaler.fit_transform(features)\n",
        "\n",
        "# Make predictions using the trained model\n",
        "predictions = best_ridge_model.predict(features)\n",
        "\n",
        "# Add predictions as a new column to dataframe\n",
        "data[\"predicted_runs\"] = predictions\n",
        "\n",
        "# Print actual runs and predicted runs\n",
        "runs_pred = data[[\"last_name, first_name\", \"r_run\", \"predicted_runs\"]]\n",
        "print(runs_pred)"
      ],
      "metadata": {
        "colab": {
          "base_uri": "https://localhost:8080/"
        },
        "id": "kr1elW_20QkE",
        "outputId": "fd47d4f4-ccef-408c-dadc-85e72c4e5238"
      },
      "execution_count": null,
      "outputs": [
        {
          "output_type": "stream",
          "name": "stdout",
          "text": [
            "    last_name, first_name  r_run  predicted_runs\n",
            "0          Grisham, Trent     67       68.920481\n",
            "1      Candelario, Jeimer     77       79.372222\n",
            "2           Hoerner, Nico     98       93.013142\n",
            "3         Carroll, Corbin    116      108.018060\n",
            "4      Santander, Anthony     81       85.513644\n",
            "..                    ...    ...             ...\n",
            "128     Yoshida, Masataka     71       73.272217\n",
            "129         Outman, James     86       80.316903\n",
            "130            Bohm, Alec     74       73.947871\n",
            "131     Wade Jr., LaMonte     64       69.483154\n",
            "132       Varsho, Daulton     65       67.232256\n",
            "\n",
            "[133 rows x 3 columns]\n"
          ]
        }
      ]
    },
    {
      "cell_type": "code",
      "source": [
        "# Print first 50 records of predicted runs scored compared to actual runs scored.\n",
        "print(runs_pred.head(50))"
      ],
      "metadata": {
        "colab": {
          "base_uri": "https://localhost:8080/"
        },
        "id": "1c5DIrYsLzoO",
        "outputId": "799550c1-c108-48f9-b970-4f8c35ec3dfb"
      },
      "execution_count": null,
      "outputs": [
        {
          "output_type": "stream",
          "name": "stdout",
          "text": [
            "   last_name, first_name  r_run  predicted_runs\n",
            "0         Grisham, Trent     67       68.920481\n",
            "1     Candelario, Jeimer     77       79.372222\n",
            "2          Hoerner, Nico     98       93.013142\n",
            "3        Carroll, Corbin    116      108.018060\n",
            "4     Santander, Anthony     81       85.513644\n",
            "5            Smith, Will     80       71.970958\n",
            "6        Swanson, Dansby     81       79.715007\n",
            "7       Arozarena, Randy     95       91.330047\n",
            "8           McNeil, Jeff     75       74.927609\n",
            "9      Walker, Christian     86       91.278626\n",
            "10          Arraez, Luis     71       83.444660\n",
            "11           Olson, Matt    127      115.476842\n",
            "12         Rosario, Amed     70       59.981740\n",
            "13          Hays, Austin     76       68.985353\n",
            "14      Rodriguez, Julio    102      106.296679\n",
            "15         McMahon, Ryan     80       77.838281\n",
            "16        Ohtani, Shohei    102      113.691904\n",
            "17         Betts, Mookie    126      114.351924\n",
            "18     Cronenworth, Jake     54       59.847596\n",
            "19     Rooker Jr., Brent     61       73.846071\n",
            "20         Ramirez, Jose     87      100.623844\n",
            "21       Lowe, Nathaniel     89       89.653678\n",
            "22      Bogaerts, Xander     83       89.242208\n",
            "23    Benintendi, Andrew     72       69.381035\n",
            "24         Suzuki, Seiya     75       80.282584\n",
            "25          Alonso, Pete     92       91.130102\n",
            "26       Torres, Gleyber     90       89.960002\n",
            "27        Nootbaar, Lars     74       69.234576\n",
            "28        Smith, Dominic     57       63.585056\n",
            "29   Tatis Jr., Fernando     91       88.090698\n",
            "30        Semien, Marcus    122      103.557925\n",
            "31             Happ, Ian     86       93.009985\n",
            "32     Lindor, Francisco    108       99.107140\n",
            "33        Taveras, Leody     67       66.391577\n",
            "34          Turner, Trea    102       96.263170\n",
            "35          LeMahieu, DJ     55       65.567453\n",
            "36        Drury, Brandon     61       66.557621\n",
            "37        Devers, Rafael     90       91.939830\n",
            "38        Crawford, J.P.     94       85.644325\n",
            "39          Straw, Myles     52       50.069080\n",
            "40        Turner, Justin     86       80.582834\n",
            "41         Albies, Ozzie     96       93.187843\n",
            "42         Kim, Ha-Seong     84       87.162065\n",
            "43        Correa, Carlos     60       66.514668\n",
            "44        Nimmo, Brandon     89       91.443031\n",
            "45  Gurriel Jr., Lourdes     65       74.143746\n",
            "46          Marte, Ketel     94       90.613373\n",
            "47        Arenado, Nolan     71       74.760622\n",
            "48        Vaughn, Andrew     67       72.058688\n",
            "49        Arcia, Orlando     66       61.554187\n"
          ]
        }
      ]
    }
  ]
}