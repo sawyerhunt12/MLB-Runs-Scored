{
  "nbformat": 4,
  "nbformat_minor": 0,
  "metadata": {
    "colab": {
      "provenance": [],
      "authorship_tag": "ABX9TyPZZTtxBn6vXbQCZIugkaEq",
      "include_colab_link": true
    },
    "kernelspec": {
      "name": "python3",
      "display_name": "Python 3"
    },
    "language_info": {
      "name": "python"
    }
  },
  "cells": [
    {
      "cell_type": "markdown",
      "metadata": {
        "id": "view-in-github",
        "colab_type": "text"
      },
      "source": [
        "<a href=\"https://colab.research.google.com/github/sawyerhunt12/MLB-Runs-Scored/blob/main/MLB_Runs_Scored.ipynb\" target=\"_parent\"><img src=\"https://colab.research.google.com/assets/colab-badge.svg\" alt=\"Open In Colab\"/></a>"
      ]
    },
    {
      "cell_type": "code",
      "source": [
        "import pandas as pd\n",
        "import numpy as np\n",
        "import seaborn as sns\n",
        "import matplotlib.pyplot as plt\n",
        "from google.colab import drive\n",
        "drive.mount('/content/gdrive')"
      ],
      "metadata": {
        "colab": {
          "base_uri": "https://localhost:8080/"
        },
        "id": "VDTVpoHwXZn3",
        "outputId": "4f738a3f-9d34-4715-8ec8-238d40061f45"
      },
      "execution_count": null,
      "outputs": [
        {
          "output_type": "stream",
          "name": "stdout",
          "text": [
            "Mounted at /content/gdrive\n"
          ]
        }
      ]
    },
    {
      "cell_type": "code",
      "source": [
        "data = pd.read_csv('gdrive/My Drive/MLB_stolen_bases.csv')"
      ],
      "metadata": {
        "id": "vN_rcWCbXie3"
      },
      "execution_count": null,
      "outputs": []
    },
    {
      "cell_type": "code",
      "source": [
        "data.head()"
      ],
      "metadata": {
        "colab": {
          "base_uri": "https://localhost:8080/",
          "height": 359
        },
        "id": "rESIVES-ZKDY",
        "outputId": "decdb2e4-ca27-47ac-8c80-1bbb6f18895c"
      },
      "execution_count": null,
      "outputs": [
        {
          "output_type": "execute_result",
          "data": {
            "text/plain": [
              "  last_name, first_name  player_id  year   ab   pa  hit  walk  batting_avg  \\\n",
              "0        Grisham, Trent     663757  2023  469  555   93    75        0.198   \n",
              "1    Candelario, Jeimer     600869  2023  505  576  127    53        0.251   \n",
              "2         Hoerner, Nico     663538  2023  619  688  175    49        0.283   \n",
              "3       Carroll, Corbin     682998  2023  565  645  161    57        0.285   \n",
              "4    Santander, Anthony     623993  2023  591  656  152    55        0.257   \n",
              "\n",
              "   slg_percent  on_base_percent  ...  b_ab_scoring  r_caught_stealing_2b  \\\n",
              "0        0.352            0.315  ...           118                     3   \n",
              "1        0.471            0.336  ...           106                     1   \n",
              "2        0.383            0.346  ...           139                     7   \n",
              "3        0.506            0.362  ...           118                     3   \n",
              "4        0.472            0.325  ...           128                     1   \n",
              "\n",
              "   r_caught_stealing_3b  r_caught_stealing_home  r_run  r_stolen_base_2b  \\\n",
              "0                     0                       0     67                14   \n",
              "1                     0                       0     77                 8   \n",
              "2                     0                       0     98                34   \n",
              "3                     2                       0    116                42   \n",
              "4                     0                       0     81                 5   \n",
              "\n",
              "   r_stolen_base_3b  r_stolen_base_home  r_total_pickoff  Unnamed: 22  \n",
              "0                 1                   0                2          NaN  \n",
              "1                 0                   0                1          NaN  \n",
              "2                 9                   0                1          NaN  \n",
              "3                12                   0                0          NaN  \n",
              "4                 0                   0                0          NaN  \n",
              "\n",
              "[5 rows x 23 columns]"
            ],
            "text/html": [
              "\n",
              "  <div id=\"df-1c6466e7-265c-467a-8a6d-ac29fe3659dc\" class=\"colab-df-container\">\n",
              "    <div>\n",
              "<style scoped>\n",
              "    .dataframe tbody tr th:only-of-type {\n",
              "        vertical-align: middle;\n",
              "    }\n",
              "\n",
              "    .dataframe tbody tr th {\n",
              "        vertical-align: top;\n",
              "    }\n",
              "\n",
              "    .dataframe thead th {\n",
              "        text-align: right;\n",
              "    }\n",
              "</style>\n",
              "<table border=\"1\" class=\"dataframe\">\n",
              "  <thead>\n",
              "    <tr style=\"text-align: right;\">\n",
              "      <th></th>\n",
              "      <th>last_name, first_name</th>\n",
              "      <th>player_id</th>\n",
              "      <th>year</th>\n",
              "      <th>ab</th>\n",
              "      <th>pa</th>\n",
              "      <th>hit</th>\n",
              "      <th>walk</th>\n",
              "      <th>batting_avg</th>\n",
              "      <th>slg_percent</th>\n",
              "      <th>on_base_percent</th>\n",
              "      <th>...</th>\n",
              "      <th>b_ab_scoring</th>\n",
              "      <th>r_caught_stealing_2b</th>\n",
              "      <th>r_caught_stealing_3b</th>\n",
              "      <th>r_caught_stealing_home</th>\n",
              "      <th>r_run</th>\n",
              "      <th>r_stolen_base_2b</th>\n",
              "      <th>r_stolen_base_3b</th>\n",
              "      <th>r_stolen_base_home</th>\n",
              "      <th>r_total_pickoff</th>\n",
              "      <th>Unnamed: 22</th>\n",
              "    </tr>\n",
              "  </thead>\n",
              "  <tbody>\n",
              "    <tr>\n",
              "      <th>0</th>\n",
              "      <td>Grisham, Trent</td>\n",
              "      <td>663757</td>\n",
              "      <td>2023</td>\n",
              "      <td>469</td>\n",
              "      <td>555</td>\n",
              "      <td>93</td>\n",
              "      <td>75</td>\n",
              "      <td>0.198</td>\n",
              "      <td>0.352</td>\n",
              "      <td>0.315</td>\n",
              "      <td>...</td>\n",
              "      <td>118</td>\n",
              "      <td>3</td>\n",
              "      <td>0</td>\n",
              "      <td>0</td>\n",
              "      <td>67</td>\n",
              "      <td>14</td>\n",
              "      <td>1</td>\n",
              "      <td>0</td>\n",
              "      <td>2</td>\n",
              "      <td>NaN</td>\n",
              "    </tr>\n",
              "    <tr>\n",
              "      <th>1</th>\n",
              "      <td>Candelario, Jeimer</td>\n",
              "      <td>600869</td>\n",
              "      <td>2023</td>\n",
              "      <td>505</td>\n",
              "      <td>576</td>\n",
              "      <td>127</td>\n",
              "      <td>53</td>\n",
              "      <td>0.251</td>\n",
              "      <td>0.471</td>\n",
              "      <td>0.336</td>\n",
              "      <td>...</td>\n",
              "      <td>106</td>\n",
              "      <td>1</td>\n",
              "      <td>0</td>\n",
              "      <td>0</td>\n",
              "      <td>77</td>\n",
              "      <td>8</td>\n",
              "      <td>0</td>\n",
              "      <td>0</td>\n",
              "      <td>1</td>\n",
              "      <td>NaN</td>\n",
              "    </tr>\n",
              "    <tr>\n",
              "      <th>2</th>\n",
              "      <td>Hoerner, Nico</td>\n",
              "      <td>663538</td>\n",
              "      <td>2023</td>\n",
              "      <td>619</td>\n",
              "      <td>688</td>\n",
              "      <td>175</td>\n",
              "      <td>49</td>\n",
              "      <td>0.283</td>\n",
              "      <td>0.383</td>\n",
              "      <td>0.346</td>\n",
              "      <td>...</td>\n",
              "      <td>139</td>\n",
              "      <td>7</td>\n",
              "      <td>0</td>\n",
              "      <td>0</td>\n",
              "      <td>98</td>\n",
              "      <td>34</td>\n",
              "      <td>9</td>\n",
              "      <td>0</td>\n",
              "      <td>1</td>\n",
              "      <td>NaN</td>\n",
              "    </tr>\n",
              "    <tr>\n",
              "      <th>3</th>\n",
              "      <td>Carroll, Corbin</td>\n",
              "      <td>682998</td>\n",
              "      <td>2023</td>\n",
              "      <td>565</td>\n",
              "      <td>645</td>\n",
              "      <td>161</td>\n",
              "      <td>57</td>\n",
              "      <td>0.285</td>\n",
              "      <td>0.506</td>\n",
              "      <td>0.362</td>\n",
              "      <td>...</td>\n",
              "      <td>118</td>\n",
              "      <td>3</td>\n",
              "      <td>2</td>\n",
              "      <td>0</td>\n",
              "      <td>116</td>\n",
              "      <td>42</td>\n",
              "      <td>12</td>\n",
              "      <td>0</td>\n",
              "      <td>0</td>\n",
              "      <td>NaN</td>\n",
              "    </tr>\n",
              "    <tr>\n",
              "      <th>4</th>\n",
              "      <td>Santander, Anthony</td>\n",
              "      <td>623993</td>\n",
              "      <td>2023</td>\n",
              "      <td>591</td>\n",
              "      <td>656</td>\n",
              "      <td>152</td>\n",
              "      <td>55</td>\n",
              "      <td>0.257</td>\n",
              "      <td>0.472</td>\n",
              "      <td>0.325</td>\n",
              "      <td>...</td>\n",
              "      <td>128</td>\n",
              "      <td>1</td>\n",
              "      <td>0</td>\n",
              "      <td>0</td>\n",
              "      <td>81</td>\n",
              "      <td>5</td>\n",
              "      <td>0</td>\n",
              "      <td>0</td>\n",
              "      <td>0</td>\n",
              "      <td>NaN</td>\n",
              "    </tr>\n",
              "  </tbody>\n",
              "</table>\n",
              "<p>5 rows × 23 columns</p>\n",
              "</div>\n",
              "    <div class=\"colab-df-buttons\">\n",
              "\n",
              "  <div class=\"colab-df-container\">\n",
              "    <button class=\"colab-df-convert\" onclick=\"convertToInteractive('df-1c6466e7-265c-467a-8a6d-ac29fe3659dc')\"\n",
              "            title=\"Convert this dataframe to an interactive table.\"\n",
              "            style=\"display:none;\">\n",
              "\n",
              "  <svg xmlns=\"http://www.w3.org/2000/svg\" height=\"24px\" viewBox=\"0 -960 960 960\">\n",
              "    <path d=\"M120-120v-720h720v720H120Zm60-500h600v-160H180v160Zm220 220h160v-160H400v160Zm0 220h160v-160H400v160ZM180-400h160v-160H180v160Zm440 0h160v-160H620v160ZM180-180h160v-160H180v160Zm440 0h160v-160H620v160Z\"/>\n",
              "  </svg>\n",
              "    </button>\n",
              "\n",
              "  <style>\n",
              "    .colab-df-container {\n",
              "      display:flex;\n",
              "      gap: 12px;\n",
              "    }\n",
              "\n",
              "    .colab-df-convert {\n",
              "      background-color: #E8F0FE;\n",
              "      border: none;\n",
              "      border-radius: 50%;\n",
              "      cursor: pointer;\n",
              "      display: none;\n",
              "      fill: #1967D2;\n",
              "      height: 32px;\n",
              "      padding: 0 0 0 0;\n",
              "      width: 32px;\n",
              "    }\n",
              "\n",
              "    .colab-df-convert:hover {\n",
              "      background-color: #E2EBFA;\n",
              "      box-shadow: 0px 1px 2px rgba(60, 64, 67, 0.3), 0px 1px 3px 1px rgba(60, 64, 67, 0.15);\n",
              "      fill: #174EA6;\n",
              "    }\n",
              "\n",
              "    .colab-df-buttons div {\n",
              "      margin-bottom: 4px;\n",
              "    }\n",
              "\n",
              "    [theme=dark] .colab-df-convert {\n",
              "      background-color: #3B4455;\n",
              "      fill: #D2E3FC;\n",
              "    }\n",
              "\n",
              "    [theme=dark] .colab-df-convert:hover {\n",
              "      background-color: #434B5C;\n",
              "      box-shadow: 0px 1px 3px 1px rgba(0, 0, 0, 0.15);\n",
              "      filter: drop-shadow(0px 1px 2px rgba(0, 0, 0, 0.3));\n",
              "      fill: #FFFFFF;\n",
              "    }\n",
              "  </style>\n",
              "\n",
              "    <script>\n",
              "      const buttonEl =\n",
              "        document.querySelector('#df-1c6466e7-265c-467a-8a6d-ac29fe3659dc button.colab-df-convert');\n",
              "      buttonEl.style.display =\n",
              "        google.colab.kernel.accessAllowed ? 'block' : 'none';\n",
              "\n",
              "      async function convertToInteractive(key) {\n",
              "        const element = document.querySelector('#df-1c6466e7-265c-467a-8a6d-ac29fe3659dc');\n",
              "        const dataTable =\n",
              "          await google.colab.kernel.invokeFunction('convertToInteractive',\n",
              "                                                    [key], {});\n",
              "        if (!dataTable) return;\n",
              "\n",
              "        const docLinkHtml = 'Like what you see? Visit the ' +\n",
              "          '<a target=\"_blank\" href=https://colab.research.google.com/notebooks/data_table.ipynb>data table notebook</a>'\n",
              "          + ' to learn more about interactive tables.';\n",
              "        element.innerHTML = '';\n",
              "        dataTable['output_type'] = 'display_data';\n",
              "        await google.colab.output.renderOutput(dataTable, element);\n",
              "        const docLink = document.createElement('div');\n",
              "        docLink.innerHTML = docLinkHtml;\n",
              "        element.appendChild(docLink);\n",
              "      }\n",
              "    </script>\n",
              "  </div>\n",
              "\n",
              "\n",
              "<div id=\"df-d70ce829-2e97-4dea-b55f-4c0ce599396a\">\n",
              "  <button class=\"colab-df-quickchart\" onclick=\"quickchart('df-d70ce829-2e97-4dea-b55f-4c0ce599396a')\"\n",
              "            title=\"Suggest charts\"\n",
              "            style=\"display:none;\">\n",
              "\n",
              "<svg xmlns=\"http://www.w3.org/2000/svg\" height=\"24px\"viewBox=\"0 0 24 24\"\n",
              "     width=\"24px\">\n",
              "    <g>\n",
              "        <path d=\"M19 3H5c-1.1 0-2 .9-2 2v14c0 1.1.9 2 2 2h14c1.1 0 2-.9 2-2V5c0-1.1-.9-2-2-2zM9 17H7v-7h2v7zm4 0h-2V7h2v10zm4 0h-2v-4h2v4z\"/>\n",
              "    </g>\n",
              "</svg>\n",
              "  </button>\n",
              "\n",
              "<style>\n",
              "  .colab-df-quickchart {\n",
              "      --bg-color: #E8F0FE;\n",
              "      --fill-color: #1967D2;\n",
              "      --hover-bg-color: #E2EBFA;\n",
              "      --hover-fill-color: #174EA6;\n",
              "      --disabled-fill-color: #AAA;\n",
              "      --disabled-bg-color: #DDD;\n",
              "  }\n",
              "\n",
              "  [theme=dark] .colab-df-quickchart {\n",
              "      --bg-color: #3B4455;\n",
              "      --fill-color: #D2E3FC;\n",
              "      --hover-bg-color: #434B5C;\n",
              "      --hover-fill-color: #FFFFFF;\n",
              "      --disabled-bg-color: #3B4455;\n",
              "      --disabled-fill-color: #666;\n",
              "  }\n",
              "\n",
              "  .colab-df-quickchart {\n",
              "    background-color: var(--bg-color);\n",
              "    border: none;\n",
              "    border-radius: 50%;\n",
              "    cursor: pointer;\n",
              "    display: none;\n",
              "    fill: var(--fill-color);\n",
              "    height: 32px;\n",
              "    padding: 0;\n",
              "    width: 32px;\n",
              "  }\n",
              "\n",
              "  .colab-df-quickchart:hover {\n",
              "    background-color: var(--hover-bg-color);\n",
              "    box-shadow: 0 1px 2px rgba(60, 64, 67, 0.3), 0 1px 3px 1px rgba(60, 64, 67, 0.15);\n",
              "    fill: var(--button-hover-fill-color);\n",
              "  }\n",
              "\n",
              "  .colab-df-quickchart-complete:disabled,\n",
              "  .colab-df-quickchart-complete:disabled:hover {\n",
              "    background-color: var(--disabled-bg-color);\n",
              "    fill: var(--disabled-fill-color);\n",
              "    box-shadow: none;\n",
              "  }\n",
              "\n",
              "  .colab-df-spinner {\n",
              "    border: 2px solid var(--fill-color);\n",
              "    border-color: transparent;\n",
              "    border-bottom-color: var(--fill-color);\n",
              "    animation:\n",
              "      spin 1s steps(1) infinite;\n",
              "  }\n",
              "\n",
              "  @keyframes spin {\n",
              "    0% {\n",
              "      border-color: transparent;\n",
              "      border-bottom-color: var(--fill-color);\n",
              "      border-left-color: var(--fill-color);\n",
              "    }\n",
              "    20% {\n",
              "      border-color: transparent;\n",
              "      border-left-color: var(--fill-color);\n",
              "      border-top-color: var(--fill-color);\n",
              "    }\n",
              "    30% {\n",
              "      border-color: transparent;\n",
              "      border-left-color: var(--fill-color);\n",
              "      border-top-color: var(--fill-color);\n",
              "      border-right-color: var(--fill-color);\n",
              "    }\n",
              "    40% {\n",
              "      border-color: transparent;\n",
              "      border-right-color: var(--fill-color);\n",
              "      border-top-color: var(--fill-color);\n",
              "    }\n",
              "    60% {\n",
              "      border-color: transparent;\n",
              "      border-right-color: var(--fill-color);\n",
              "    }\n",
              "    80% {\n",
              "      border-color: transparent;\n",
              "      border-right-color: var(--fill-color);\n",
              "      border-bottom-color: var(--fill-color);\n",
              "    }\n",
              "    90% {\n",
              "      border-color: transparent;\n",
              "      border-bottom-color: var(--fill-color);\n",
              "    }\n",
              "  }\n",
              "</style>\n",
              "\n",
              "  <script>\n",
              "    async function quickchart(key) {\n",
              "      const quickchartButtonEl =\n",
              "        document.querySelector('#' + key + ' button');\n",
              "      quickchartButtonEl.disabled = true;  // To prevent multiple clicks.\n",
              "      quickchartButtonEl.classList.add('colab-df-spinner');\n",
              "      try {\n",
              "        const charts = await google.colab.kernel.invokeFunction(\n",
              "            'suggestCharts', [key], {});\n",
              "      } catch (error) {\n",
              "        console.error('Error during call to suggestCharts:', error);\n",
              "      }\n",
              "      quickchartButtonEl.classList.remove('colab-df-spinner');\n",
              "      quickchartButtonEl.classList.add('colab-df-quickchart-complete');\n",
              "    }\n",
              "    (() => {\n",
              "      let quickchartButtonEl =\n",
              "        document.querySelector('#df-d70ce829-2e97-4dea-b55f-4c0ce599396a button');\n",
              "      quickchartButtonEl.style.display =\n",
              "        google.colab.kernel.accessAllowed ? 'block' : 'none';\n",
              "    })();\n",
              "  </script>\n",
              "</div>\n",
              "\n",
              "    </div>\n",
              "  </div>\n"
            ]
          },
          "metadata": {},
          "execution_count": 3
        }
      ]
    },
    {
      "cell_type": "code",
      "source": [
        "data.columns"
      ],
      "metadata": {
        "colab": {
          "base_uri": "https://localhost:8080/"
        },
        "id": "L15YY-h2bY6Y",
        "outputId": "9017a825-e62a-4418-edc7-c293a97ca440"
      },
      "execution_count": null,
      "outputs": [
        {
          "output_type": "execute_result",
          "data": {
            "text/plain": [
              "Index(['last_name, first_name', 'player_id', 'year', 'ab', 'pa', 'hit', 'walk',\n",
              "       'batting_avg', 'slg_percent', 'on_base_percent', 'on_base_plus_slg',\n",
              "       'r_total_caught_stealing', 'r_total_stolen_base', 'b_ab_scoring',\n",
              "       'r_caught_stealing_2b', 'r_caught_stealing_3b',\n",
              "       'r_caught_stealing_home', 'r_run', 'r_stolen_base_2b',\n",
              "       'r_stolen_base_3b', 'r_stolen_base_home', 'r_total_pickoff',\n",
              "       'Unnamed: 22'],\n",
              "      dtype='object')"
            ]
          },
          "metadata": {},
          "execution_count": 4
        }
      ]
    },
    {
      "cell_type": "code",
      "source": [
        "# Histogram of stolen bases\n",
        "sns.histplot(data = data, x = \"r_total_stolen_base\")\n",
        "plt.show()"
      ],
      "metadata": {
        "colab": {
          "base_uri": "https://localhost:8080/",
          "height": 450
        },
        "id": "YNba1gQQXsAZ",
        "outputId": "bec689b3-44fa-4791-fd48-7d6cfa135cf0"
      },
      "execution_count": null,
      "outputs": [
        {
          "output_type": "display_data",
          "data": {
            "text/plain": [
              "<Figure size 640x480 with 1 Axes>"
            ],
            "image/png": "[encoded data removed]"
          },
          "metadata": {}
        }
      ]
    },
    {
      "cell_type": "code",
      "source": [
        "# 75th, 25th, and 90th percentile of stolen bases\n",
        "seventy_five_sb = data[\"r_total_stolen_base\"].quantile(0.75)\n",
        "twenty_five_sb = data[\"r_total_stolen_base\"].quantile(0.25)\n",
        "ninety_sb = data[\"r_total_stolen_base\"].quantile(0.90)\n",
        "\n",
        "# sb iqr\n",
        "sb_iqr = seventy_five_sb - twenty_five_sb\n",
        "\n",
        "# upper and lower outliers\n",
        "upper_outlier_sb = seventy_five_sb + (1.5 * sb_iqr)\n",
        "lower_outlier_sb = twenty_five_sb - (1.5 * sb_iqr)\n",
        "\n",
        "print(\"75th Percentile:\", seventy_five_sb)\n",
        "print(\"25th Percentile:\", twenty_five_sb)\n",
        "print(\"90th Percentile:\", ninety_sb)\n",
        "print(\"Interquartile Range:\", sb_iqr)\n",
        "print(\"Upper Outlier Limit:\", upper_outlier_sb)\n",
        "print(\"Lower Outlier Limit:\", lower_outlier_sb) # The lower outlier limit is negative; therefore, there are no outliers below the 25th percentile."
      ],
      "metadata": {
        "colab": {
          "base_uri": "https://localhost:8080/"
        },
        "id": "CUFYqWPZbTlY",
        "outputId": "c2b77a3e-c431-4bab-b742-95a060437e7c"
      },
      "execution_count": null,
      "outputs": [
        {
          "output_type": "stream",
          "name": "stdout",
          "text": [
            "75th Percentile: 16.0\n",
            "25th Percentile: 3.0\n",
            "90th Percentile: 28.0\n",
            "Interquartile Range: 13.0\n",
            "Upper Outlier Limit: 35.5\n",
            "Lower Outlier Limit: -16.5\n"
          ]
        }
      ]
    },
    {
      "cell_type": "code",
      "source": [
        "# Boxplot of stolen bases\n",
        "sns.boxplot(data = data, y = \"r_total_stolen_base\")\n",
        "plt.show()"
      ],
      "metadata": {
        "colab": {
          "base_uri": "https://localhost:8080/",
          "height": 411
        },
        "id": "_9Mx3vB_dkaT",
        "outputId": "fa473e41-26fb-4148-a99a-d127bc63bcd6"
      },
      "execution_count": null,
      "outputs": [
        {
          "output_type": "display_data",
          "data": {
            "text/plain": [
              "<Figure size 640x480 with 1 Axes>"
            ],
            "image/png": "[encoded data removed]"
          },
          "metadata": {}
        }
      ]
    },
    {
      "cell_type": "code",
      "source": [
        "# Summary statistics of stolen bases\n",
        "data[\"r_total_stolen_base\"].describe()"
      ],
      "metadata": {
        "colab": {
          "base_uri": "https://localhost:8080/"
        },
        "id": "mbQn49fHeCO_",
        "outputId": "1395010a-db99-4a26-f52c-8dadabda2072"
      },
      "execution_count": null,
      "outputs": [
        {
          "output_type": "execute_result",
          "data": {
            "text/plain": [
              "count    133.000000\n",
              "mean      11.751880\n",
              "std       12.585108\n",
              "min        0.000000\n",
              "25%        3.000000\n",
              "50%        8.000000\n",
              "75%       16.000000\n",
              "max       73.000000\n",
              "Name: r_total_stolen_base, dtype: float64"
            ]
          },
          "metadata": {},
          "execution_count": 8
        }
      ]
    },
    {
      "cell_type": "code",
      "source": [
        "# How many players that did not steal any bases\n",
        "data[data[\"r_total_stolen_base\"] == 0].count()"
      ],
      "metadata": {
        "colab": {
          "base_uri": "https://localhost:8080/"
        },
        "id": "Y9TWoRIFfw0V",
        "outputId": "a29f64a7-0d9a-4309-ac6e-97a54fcad22f"
      },
      "execution_count": null,
      "outputs": [
        {
          "output_type": "execute_result",
          "data": {
            "text/plain": [
              "last_name, first_name      13\n",
              "player_id                  13\n",
              "year                       13\n",
              "ab                         13\n",
              "pa                         13\n",
              "hit                        13\n",
              "walk                       13\n",
              "batting_avg                13\n",
              "slg_percent                13\n",
              "on_base_percent            13\n",
              "on_base_plus_slg           13\n",
              "r_total_caught_stealing    13\n",
              "r_total_stolen_base        13\n",
              "b_ab_scoring               13\n",
              "r_caught_stealing_2b       13\n",
              "r_caught_stealing_3b       13\n",
              "r_caught_stealing_home     13\n",
              "r_run                      13\n",
              "r_stolen_base_2b           13\n",
              "r_stolen_base_3b           13\n",
              "r_stolen_base_home         13\n",
              "r_total_pickoff            13\n",
              "Unnamed: 22                 0\n",
              "dtype: int64"
            ]
          },
          "metadata": {},
          "execution_count": 9
        }
      ]
    },
    {
      "cell_type": "code",
      "source": [
        "# Histogram of runs scored\n",
        "sns.histplot(data = data, x = \"r_run\")\n",
        "plt.show()"
      ],
      "metadata": {
        "colab": {
          "base_uri": "https://localhost:8080/",
          "height": 449
        },
        "id": "K_GYWDwfBasE",
        "outputId": "5339b653-d4dc-4ed0-d517-483630b050e1"
      },
      "execution_count": null,
      "outputs": [
        {
          "output_type": "display_data",
          "data": {
            "text/plain": [
              "<Figure size 640x480 with 1 Axes>"
            ],
            "image/png": "[encoded data removed]"
          },
          "metadata": {}
        }
      ]
    },
    {
      "cell_type": "code",
      "source": [
        "# 75th, 25th, and 90th percentile of runs scored\n",
        "seventy_five_runs = data[\"r_run\"].quantile(0.75)\n",
        "twenty_five_runs = data[\"r_run\"].quantile(0.25)\n",
        "ninety_runs = data[\"r_run\"].quantile(0.90)\n",
        "\n",
        "# runs scored iqr\n",
        "runs_iqr = seventy_five_runs - twenty_five_runs\n",
        "\n",
        "# upper and lower outliers\n",
        "upper_outlier_runs = seventy_five_runs + (1.5 * runs_iqr)\n",
        "lower_outlier_runs = twenty_five_runs - (1.5 * runs_iqr)\n",
        "\n",
        "print(\"75th Percentile:\", seventy_five_runs)\n",
        "print(\"25th Percentile:\", twenty_five_runs)\n",
        "print(\"90th Percentile:\", ninety_runs)\n",
        "print(\"Interquartile Range:\", runs_iqr)\n",
        "print(\"Upper Outlier Limit:\", upper_outlier_runs)\n",
        "print(\"Lower Outlier Limit:\", lower_outlier_runs)"
      ],
      "metadata": {
        "colab": {
          "base_uri": "https://localhost:8080/"
        },
        "id": "SP5DDClfBZxT",
        "outputId": "b39e41da-5e3c-4414-9135-36e02360fe17"
      },
      "execution_count": null,
      "outputs": [
        {
          "output_type": "stream",
          "name": "stdout",
          "text": [
            "75th Percentile: 90.0\n",
            "25th Percentile: 66.0\n",
            "90th Percentile: 102.0\n",
            "Interquartile Range: 24.0\n",
            "Upper Outlier Limit: 126.0\n",
            "Lower Outlier Limit: 30.0\n"
          ]
        }
      ]
    },
    {
      "cell_type": "code",
      "source": [
        "# Boxplot of runs scored\n",
        "sns.boxplot(data = data, y = \"r_run\")\n",
        "plt.show()"
      ],
      "metadata": {
        "colab": {
          "base_uri": "https://localhost:8080/",
          "height": 411
        },
        "id": "WgpUkmOvBZna",
        "outputId": "d0c37cf1-7528-45c5-af3f-682191386ef2"
      },
      "execution_count": null,
      "outputs": [
        {
          "output_type": "display_data",
          "data": {
            "text/plain": [
              "<Figure size 640x480 with 1 Axes>"
            ],
            "image/png": "[encoded data removed]"
          },
          "metadata": {}
        }
      ]
    },
    {
      "cell_type": "code",
      "source": [
        "# Summary statistics of runs scored\n",
        "data[\"r_run\"].describe()"
      ],
      "metadata": {
        "colab": {
          "base_uri": "https://localhost:8080/"
        },
        "id": "vvGYx8UCBZdQ",
        "outputId": "9f594bfe-18fa-46ba-99d3-30f3d05b1a92"
      },
      "execution_count": null,
      "outputs": [
        {
          "output_type": "execute_result",
          "data": {
            "text/plain": [
              "count    133.000000\n",
              "mean      79.563910\n",
              "std       18.287002\n",
              "min       48.000000\n",
              "25%       66.000000\n",
              "50%       78.000000\n",
              "75%       90.000000\n",
              "max      149.000000\n",
              "Name: r_run, dtype: float64"
            ]
          },
          "metadata": {},
          "execution_count": 13
        }
      ]
    },
    {
      "cell_type": "code",
      "source": [
        "# Scatter plot of stolen bases vs. runs scored. There appears to be an upward trend, however, the data are not very linear.\n",
        "\n",
        "sns.scatterplot(data = data, x = \"r_total_stolen_base\", y = \"r_run\")\n",
        "plt.show()"
      ],
      "metadata": {
        "id": "YQ8h-f5SgyQa",
        "colab": {
          "base_uri": "https://localhost:8080/",
          "height": 450
        },
        "outputId": "62ea688e-f912-4670-d51c-1f502c24a277"
      },
      "execution_count": null,
      "outputs": [
        {
          "output_type": "display_data",
          "data": {
            "text/plain": [
              "<Figure size 640x480 with 1 Axes>"
            ],
            "image/png": "[encoded data removed]"
          },
          "metadata": {}
        }
      ]
    },
    {
      "cell_type": "code",
      "source": [
        "# Find the range of the runs scored column\n",
        "run_range = data[\"r_run\"].max() - data[\"r_run\"].min()\n",
        "run_max = data[\"r_run\"].max()\n",
        "run_min = data[\"r_run\"].min()\n",
        "print(\"Max Runs Scored:\", run_max)\n",
        "print(\"Min Runs Scored:\", run_min)\n",
        "print(\"Range of Runs Scored:\", run_range)"
      ],
      "metadata": {
        "colab": {
          "base_uri": "https://localhost:8080/"
        },
        "id": "kBy1g4IZeHmg",
        "outputId": "b4a49ceb-6d34-4328-be19-35058ca8d12b"
      },
      "execution_count": null,
      "outputs": [
        {
          "output_type": "stream",
          "name": "stdout",
          "text": [
            "Max Runs Scored: 149\n",
            "Min Runs Scored: 48\n",
            "Range of Runs Scored: 101\n"
          ]
        }
      ]
    },
    {
      "cell_type": "code",
      "source": [
        "# Import packages for linear regression\n",
        "from sklearn.model_selection import train_test_split\n",
        "from sklearn.linear_model import LinearRegression\n",
        "from sklearn.metrics import mean_squared_error"
      ],
      "metadata": {
        "id": "qBf_-QYhG4Ps"
      },
      "execution_count": null,
      "outputs": []
    },
    {
      "cell_type": "markdown",
      "source": [
        "Perfrom linear regression model."
      ],
      "metadata": {
        "id": "src3l0B8OgUH"
      }
    },
    {
      "cell_type": "code",
      "source": [
        "# Feature selection\n",
        "X = data[\"r_total_stolen_base\"].values\n",
        "\n",
        "# Reshape the feature to a 2D array since it's only a singel feature and scikit-learn LinearRegression model expects the input features to be a 2D array\n",
        "X = X.reshape(-1, 1)\n",
        "\n",
        "# Target variable\n",
        "y = data[\"r_run\"].values"
      ],
      "metadata": {
        "id": "t6Rea72YH8zW"
      },
      "execution_count": null,
      "outputs": []
    },
    {
      "cell_type": "code",
      "source": [
        "# Split the data into training and testing sets\n",
        "X_train, X_test, y_train, y_test = train_test_split(X, y, test_size = 0.2, random_state = 40)"
      ],
      "metadata": {
        "id": "2Bp2vyFgLAM3"
      },
      "execution_count": null,
      "outputs": []
    },
    {
      "cell_type": "code",
      "source": [
        "# Create linear regression model\n",
        "model = LinearRegression()\n",
        "\n",
        "# Train the model on the training data\n",
        "model.fit(X_train, y_train)\n",
        "\n",
        "# Make predictions on the testting data\n",
        "y_pred = model.predict(X_test)"
      ],
      "metadata": {
        "id": "_uPskszJLOVd"
      },
      "execution_count": null,
      "outputs": []
    },
    {
      "cell_type": "code",
      "source": [
        "# Print the model parameters\n",
        "print(\"Intercept:\", model.intercept_)\n",
        "print(\"Coefficients:\", model.coef_)"
      ],
      "metadata": {
        "colab": {
          "base_uri": "https://localhost:8080/"
        },
        "id": "pvFOi3M_Lfsg",
        "outputId": "4ac75ede-5b86-479c-a215-d15a58e0319b"
      },
      "execution_count": null,
      "outputs": [
        {
          "output_type": "stream",
          "name": "stdout",
          "text": [
            "Intercept: 70.72974668771667\n",
            "Coefficients: [0.71133815]\n"
          ]
        }
      ]
    },
    {
      "cell_type": "markdown",
      "source": [
        "Interpretation:\n",
        "Intercept: All other variables are 0.\n",
        "Coefficient: For a coefficient of ~0.7, it means a one unit increase of that feature is associated with a 0.7 unit increase of the dependent variable. So, a stolen base leads to 0.7 runs."
      ],
      "metadata": {
        "id": "sU8UNC9mag6V"
      }
    },
    {
      "cell_type": "code",
      "source": [
        "# Evaluate the model performance\n",
        "mse = mean_squared_error(y_test, y_pred)\n",
        "print(\"Mean Squared Error:\", mse)"
      ],
      "metadata": {
        "colab": {
          "base_uri": "https://localhost:8080/"
        },
        "id": "MBfTRVZxM33z",
        "outputId": "85932b58-cf40-48a9-aa3b-0446243927d3"
      },
      "execution_count": null,
      "outputs": [
        {
          "output_type": "stream",
          "name": "stdout",
          "text": [
            "Mean Squared Error: 418.3101744105464\n"
          ]
        }
      ]
    },
    {
      "cell_type": "markdown",
      "source": [
        "Interpretation:\n",
        "MSE is a measure of how well the model's predictions match the actual data. Considering the range of the target variable (101), the model did not perform well."
      ],
      "metadata": {
        "id": "TCE6f6ISc71m"
      }
    },
    {
      "cell_type": "code",
      "source": [
        "data.columns"
      ],
      "metadata": {
        "colab": {
          "base_uri": "https://localhost:8080/"
        },
        "id": "MDpXep9FhRpO",
        "outputId": "494a5926-50a3-4e56-e2dc-6eed8fc038d4"
      },
      "execution_count": null,
      "outputs": [
        {
          "output_type": "execute_result",
          "data": {
            "text/plain": [
              "Index(['last_name, first_name', 'player_id', 'year', 'ab', 'pa', 'hit', 'walk',\n",
              "       'batting_avg', 'slg_percent', 'on_base_percent', 'on_base_plus_slg',\n",
              "       'r_total_caught_stealing', 'r_total_stolen_base', 'b_ab_scoring',\n",
              "       'r_caught_stealing_2b', 'r_caught_stealing_3b',\n",
              "       'r_caught_stealing_home', 'r_run', 'r_stolen_base_2b',\n",
              "       'r_stolen_base_3b', 'r_stolen_base_home', 'r_total_pickoff',\n",
              "       'Unnamed: 22'],\n",
              "      dtype='object')"
            ]
          },
          "metadata": {},
          "execution_count": 22
        }
      ]
    },
    {
      "cell_type": "markdown",
      "source": [
        "Perform multiple linear regression model."
      ],
      "metadata": {
        "id": "P5pOMyo6PRYW"
      }
    },
    {
      "cell_type": "code",
      "source": [
        "## Multiple linear regression model - manually choosing the features\n",
        "\n",
        "# Feature selection, all relavent offensive stats in the dataset\n",
        "X = data[[\"r_total_stolen_base\", \"on_base_percent\", \"batting_avg\", \"on_base_plus_slg\", \"hit\", \"walk\", \"slg_percent\", \"r_stolen_base_2b\", \"r_stolen_base_3b\", \"r_stolen_base_home\"]].values\n",
        "\n",
        "# Target variable\n",
        "y = data[\"r_run\"].values"
      ],
      "metadata": {
        "id": "BUNtcAfmSIZR"
      },
      "execution_count": null,
      "outputs": []
    },
    {
      "cell_type": "code",
      "source": [
        "# Split the data into training and testing sets\n",
        "X_train, X_test, y_train, y_test = train_test_split(X, y, test_size = 0.2, random_state = 41)"
      ],
      "metadata": {
        "id": "NXBKqmgxXdH1"
      },
      "execution_count": null,
      "outputs": []
    },
    {
      "cell_type": "code",
      "source": [
        "# Create linear regression model\n",
        "model = LinearRegression()\n",
        "\n",
        "# Train the model on the training data\n",
        "model.fit(X_train, y_train)\n",
        "\n",
        "# Make predictions on the testting data\n",
        "y_pred = model.predict(X_test)"
      ],
      "metadata": {
        "id": "kDTfvjn0XdCg"
      },
      "execution_count": null,
      "outputs": []
    },
    {
      "cell_type": "code",
      "source": [
        "# Print the model parameters\n",
        "print(\"Intercept:\", model.intercept_)\n",
        "print(\"Stolen Bases:\", model.coef_[0])\n",
        "print(\"OBP:\", model.coef_[1])\n",
        "print(\"Batting Avg:\", model.coef_[2])\n",
        "print(\"OPS:\", model.coef_[3])\n",
        "print(\"Hits:\", model.coef_[4])\n",
        "print(\"Walks:\", model.coef_[5])\n",
        "print(\"Slugging Percentage:\", model.coef_[6])\n",
        "print(\"Stolen Second:\", model.coef_[7])\n",
        "print(\"Stolen Third:\", model.coef_[8])\n",
        "print(\"Stolen Home:\", model.coef_[9])"
      ],
      "metadata": {
        "colab": {
          "base_uri": "https://localhost:8080/"
        },
        "id": "YC-_4gNFXc7F",
        "outputId": "b1665d89-2fba-4f3f-d251-b23f29850cc7"
      },
      "execution_count": null,
      "outputs": [
        {
          "output_type": "stream",
          "name": "stdout",
          "text": [
            "Intercept: -9.869494320283735\n",
            "Stolen Bases: -1.4402313673245146\n",
            "OBP: 36.42226236670831\n",
            "Batting Avg: -391.4766701377162\n",
            "OPS: 83.57119441106514\n",
            "Hits: 0.551069757597265\n",
            "Walks: 0.1728903795632819\n",
            "Slugging Percentage: 47.148932044368394\n",
            "Stolen Second: 2.005983835491648\n",
            "Stolen Third: 1.4343785041511206\n",
            "Stolen Home: -4.880593706927689\n"
          ]
        }
      ]
    },
    {
      "cell_type": "code",
      "source": [
        "# Evaluate the model performance\n",
        "mse = mean_squared_error(y_test, y_pred)\n",
        "print(\"Mean Squared Error:\", mse)"
      ],
      "metadata": {
        "colab": {
          "base_uri": "https://localhost:8080/"
        },
        "id": "Viht2sjSXcuY",
        "outputId": "c8ed7673-0da7-48fc-f507-5f0408d39e23"
      },
      "execution_count": null,
      "outputs": [
        {
          "output_type": "stream",
          "name": "stdout",
          "text": [
            "Mean Squared Error: 87.62940737026268\n"
          ]
        }
      ]
    },
    {
      "cell_type": "code",
      "source": [
        "print(y_pred)"
      ],
      "metadata": {
        "colab": {
          "base_uri": "https://localhost:8080/"
        },
        "id": "LS34fe5Soajo",
        "outputId": "16350238-b51f-44ce-c6ff-961cfb6e032d"
      },
      "execution_count": null,
      "outputs": [
        {
          "output_type": "stream",
          "name": "stdout",
          "text": [
            "[ 80.21675895  99.51416562  70.65459251  64.06917735  60.58027243\n",
            "  79.009902    58.03776233 113.94971554  47.45468512  68.97838719\n",
            " 104.33814516  95.01789684  95.23065345  91.45182646  80.65788279\n",
            "  89.72831377  81.27151145  65.33062318  84.48574658  58.02588817\n",
            "  88.85150454  37.72959198  69.42697556  84.94937056  91.58401245\n",
            "  80.32618308  93.65819306]\n"
          ]
        }
      ]
    },
    {
      "cell_type": "code",
      "source": [
        "# Apply predictions to dataframe\n",
        "features = data[[\"r_total_stolen_base\", \"on_base_percent\", \"batting_avg\", \"on_base_plus_slg\", \"hit\", \"walk\", \"slg_percent\", \"r_stolen_base_2b\", \"r_stolen_base_3b\", \"r_stolen_base_home\"]].values\n",
        "\n",
        "# Make predictions using the trained model\n",
        "predictions = model.predict(features)\n",
        "\n",
        "# Add predictions as a new column to dataframe\n",
        "data[\"predicted_runs\"] = predictions\n",
        "\n",
        "# Print actual runs and predicted runs\n",
        "print(data[[\"last_name, first_name\", \"r_run\", \"predicted_runs\"]])"
      ],
      "metadata": {
        "id": "dDX_KDVWo4Uj",
        "colab": {
          "base_uri": "https://localhost:8080/"
        },
        "outputId": "eb59e413-f883-4e00-d830-7afbe2b322b8"
      },
      "execution_count": null,
      "outputs": [
        {
          "output_type": "stream",
          "name": "stdout",
          "text": [
            "    last_name, first_name  r_run  predicted_runs\n",
            "0          Grisham, Trent     67       68.560496\n",
            "1      Candelario, Jeimer     77       77.431912\n",
            "2           Hoerner, Nico     98       95.017897\n",
            "3         Carroll, Corbin    116      110.410022\n",
            "4      Santander, Anthony     81       86.319111\n",
            "..                    ...    ...             ...\n",
            "128     Yoshida, Masataka     71       71.542098\n",
            "129         Outman, James     86       79.463633\n",
            "130            Bohm, Alec     74       73.066532\n",
            "131     Wade Jr., LaMonte     64       64.069177\n",
            "132       Varsho, Daulton     65       68.666890\n",
            "\n",
            "[133 rows x 3 columns]\n"
          ]
        }
      ]
    },
    {
      "cell_type": "markdown",
      "source": [
        "The multiple linear regression model performed quite well. The MSE was an acceptable value, and the predictions closely match the actual values."
      ],
      "metadata": {
        "id": "qDTi2qepGuYC"
      }
    }
  ]
}